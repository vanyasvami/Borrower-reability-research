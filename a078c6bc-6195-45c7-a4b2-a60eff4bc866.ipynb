{
 "cells": [
  {
   "cell_type": "code",
   "execution_count": 1,
   "id": "77a68a90",
   "metadata": {
    "deletable": false,
    "id": "77a68a90"
   },
   "outputs": [],
   "source": [
    "import pandas as pd\n",
    "\n",
    "try:\n",
    "    data = pd.read_csv('/datasets/data.csv')\n",
    "except:\n",
    "    data = pd.read_csv('https://code.s3.yandex.net/datasets/data.csv')"
   ]
  },
  {
   "cell_type": "markdown",
   "id": "60e3e22d",
   "metadata": {
    "deletable": false,
    "editable": false,
    "id": "60e3e22d"
   },
   "source": [
    "## Предобработка данных"
   ]
  },
  {
   "cell_type": "markdown",
   "id": "03dc170c",
   "metadata": {
    "deletable": false,
    "editable": false,
    "id": "03dc170c"
   },
   "source": [
    "### Удаление пропусков"
   ]
  },
  {
   "cell_type": "code",
   "execution_count": 4,
   "id": "2dc372b2",
   "metadata": {
    "deletable": false,
    "id": "2dc372b2",
    "outputId": "81f4d817-781c-465c-ed15-91ce4446810d"
   },
   "outputs": [
    {
     "data": {
      "text/plain": [
       "children               0\n",
       "days_employed       2174\n",
       "dob_years              0\n",
       "education              0\n",
       "education_id           0\n",
       "family_status          0\n",
       "family_status_id       0\n",
       "gender                 0\n",
       "income_type            0\n",
       "debt                   0\n",
       "total_income        2174\n",
       "purpose                0\n",
       "dtype: int64"
      ]
     },
     "execution_count": 4,
     "metadata": {},
     "output_type": "execute_result"
    }
   ],
   "source": [
    "data.isna().sum()"
   ]
  },
  {
   "cell_type": "code",
   "execution_count": 5,
   "id": "bdabfb6e",
   "metadata": {
    "deletable": false,
    "id": "bdabfb6e"
   },
   "outputs": [],
   "source": [
    "for t in data['income_type'].unique():\n",
    "    data.loc[(data['income_type'] == t) & (data['total_income'].isna()), 'total_income'] = \\\n",
    "    data.loc[(data['income_type'] == t), 'total_income'].median()"
   ]
  },
  {
   "cell_type": "markdown",
   "id": "5be34059",
   "metadata": {
    "deletable": false,
    "editable": false,
    "id": "5be34059"
   },
   "source": [
    "### Обработка аномальных значений"
   ]
  },
  {
   "cell_type": "code",
   "execution_count": 6,
   "id": "020c46cc",
   "metadata": {
    "deletable": false,
    "id": "020c46cc"
   },
   "outputs": [],
   "source": [
    "data['days_employed'] = data['days_employed'].abs()"
   ]
  },
  {
   "cell_type": "code",
   "execution_count": 7,
   "id": "cd3e6328",
   "metadata": {
    "deletable": false,
    "id": "cd3e6328",
    "outputId": "801ef80e-522b-4668-f34e-565af7432bcf"
   },
   "outputs": [
    {
     "data": {
      "text/plain": [
       "income_type\n",
       "безработный        366413.652744\n",
       "в декрете            3296.759962\n",
       "госслужащий          2689.368353\n",
       "компаньон            1547.382223\n",
       "пенсионер          365213.306266\n",
       "предприниматель       520.848083\n",
       "сотрудник            1574.202821\n",
       "студент               578.751554\n",
       "Name: days_employed, dtype: float64"
      ]
     },
     "execution_count": 7,
     "metadata": {},
     "output_type": "execute_result"
    }
   ],
   "source": [
    "data.groupby('income_type')['days_employed'].agg('median')"
   ]
  },
  {
   "cell_type": "markdown",
   "id": "90c5f058",
   "metadata": {
    "deletable": false,
    "editable": false,
    "id": "90c5f058"
   },
   "source": [
    "У двух типов (безработные и пенсионеры) получатся аномально большие значения. Исправить такие значения сложно, поэтому оставьте их как есть."
   ]
  },
  {
   "cell_type": "code",
   "execution_count": 8,
   "id": "dbb37b8e",
   "metadata": {
    "deletable": false,
    "id": "dbb37b8e",
    "outputId": "6975b15c-7f95-4697-d16d-a0c79b657b03"
   },
   "outputs": [
    {
     "data": {
      "text/plain": [
       "array([ 1,  0,  3,  2, -1,  4, 20,  5])"
      ]
     },
     "execution_count": 8,
     "metadata": {},
     "output_type": "execute_result"
    }
   ],
   "source": [
    "data['children'].unique()"
   ]
  },
  {
   "cell_type": "code",
   "execution_count": 9,
   "id": "20009df8",
   "metadata": {
    "deletable": false,
    "id": "20009df8"
   },
   "outputs": [],
   "source": [
    "data = data[(data['children'] != -1) & (data['children'] != 20)]"
   ]
  },
  {
   "cell_type": "code",
   "execution_count": 10,
   "id": "07337b81",
   "metadata": {
    "deletable": false,
    "id": "07337b81",
    "outputId": "b2097101-d49d-44d9-901b-32a65c9463d1"
   },
   "outputs": [
    {
     "data": {
      "text/plain": [
       "array([1, 0, 3, 2, 4, 5])"
      ]
     },
     "execution_count": 10,
     "metadata": {},
     "output_type": "execute_result"
    }
   ],
   "source": [
    "data['children'].unique()"
   ]
  },
  {
   "cell_type": "markdown",
   "id": "ee3f52d4",
   "metadata": {
    "deletable": false,
    "editable": false,
    "id": "ee3f52d4"
   },
   "source": [
    "### Удаление пропусков (продолжение)"
   ]
  },
  {
   "cell_type": "code",
   "execution_count": 11,
   "id": "61946b83",
   "metadata": {
    "deletable": false,
    "id": "61946b83"
   },
   "outputs": [],
   "source": [
    "for t in data['income_type'].unique():\n",
    "    data.loc[(data['income_type'] == t) & (data['days_employed'].isna()), 'days_employed'] = \\\n",
    "    data.loc[(data['income_type'] == t), 'days_employed'].median()"
   ]
  },
  {
   "cell_type": "code",
   "execution_count": 12,
   "id": "937c7014",
   "metadata": {
    "deletable": false,
    "id": "937c7014",
    "outputId": "8da1e4e1-358e-4e87-98c9-f261bce0a7b2"
   },
   "outputs": [
    {
     "data": {
      "text/plain": [
       "children            0\n",
       "days_employed       0\n",
       "dob_years           0\n",
       "education           0\n",
       "education_id        0\n",
       "family_status       0\n",
       "family_status_id    0\n",
       "gender              0\n",
       "income_type         0\n",
       "debt                0\n",
       "total_income        0\n",
       "purpose             0\n",
       "dtype: int64"
      ]
     },
     "execution_count": 12,
     "metadata": {},
     "output_type": "execute_result"
    }
   ],
   "source": [
    "data.isna().sum()"
   ]
  },
  {
   "cell_type": "markdown",
   "id": "d522e295",
   "metadata": {
    "deletable": false,
    "editable": false,
    "id": "d522e295"
   },
   "source": [
    "### Изменение типов данных"
   ]
  },
  {
   "cell_type": "code",
   "execution_count": 13,
   "id": "31036462",
   "metadata": {
    "deletable": false,
    "id": "31036462"
   },
   "outputs": [],
   "source": [
    "data['total_income'] = data['total_income'].astype(int)"
   ]
  },
  {
   "cell_type": "markdown",
   "id": "b8e3d1d9",
   "metadata": {
    "deletable": false,
    "editable": false,
    "id": "b8e3d1d9"
   },
   "source": [
    "### Обработка дубликатов"
   ]
  },
  {
   "cell_type": "code",
   "execution_count": 14,
   "id": "d89e73e1",
   "metadata": {
    "deletable": false,
    "id": "d89e73e1"
   },
   "outputs": [],
   "source": [
    "data['education'] = data['education'].str.lower()"
   ]
  },
  {
   "cell_type": "code",
   "execution_count": 15,
   "id": "e10efb23",
   "metadata": {
    "deletable": false,
    "id": "e10efb23",
    "outputId": "9684deba-1934-42d1-99e1-cda61740f822"
   },
   "outputs": [
    {
     "data": {
      "text/plain": [
       "71"
      ]
     },
     "execution_count": 15,
     "metadata": {},
     "output_type": "execute_result"
    }
   ],
   "source": [
    "data.duplicated().sum()"
   ]
  },
  {
   "cell_type": "code",
   "execution_count": 16,
   "id": "df853f20",
   "metadata": {
    "deletable": false,
    "id": "df853f20"
   },
   "outputs": [],
   "source": [
    "data = data.drop_duplicates()"
   ]
  },
  {
   "cell_type": "markdown",
   "id": "627be38f",
   "metadata": {
    "deletable": false,
    "editable": false,
    "id": "627be38f"
   },
   "source": [
    "### Категоризация данных"
   ]
  },
  {
   "cell_type": "code",
   "execution_count": 17,
   "id": "78965238",
   "metadata": {
    "deletable": false,
    "id": "78965238"
   },
   "outputs": [],
   "source": [
    "def categorize_income(income):\n",
    "    try:\n",
    "        if 0 <= income <= 30000:\n",
    "            return 'E'\n",
    "        elif 30001 <= income <= 50000:\n",
    "            return 'D'\n",
    "        elif 50001 <= income <= 200000:\n",
    "            return 'C'\n",
    "        elif 200001 <= income <= 1000000:\n",
    "            return 'B'\n",
    "        elif income >= 1000001:\n",
    "            return 'A'\n",
    "    except:\n",
    "        pass"
   ]
  },
  {
   "cell_type": "code",
   "execution_count": 18,
   "id": "0980ada1",
   "metadata": {
    "deletable": false,
    "id": "0980ada1"
   },
   "outputs": [],
   "source": [
    "data['total_income_category'] = data['total_income'].apply(categorize_income)"
   ]
  },
  {
   "cell_type": "code",
   "execution_count": 19,
   "id": "ee07b65e",
   "metadata": {
    "deletable": false,
    "id": "ee07b65e",
    "outputId": "673c12d9-7d7e-4ae0-9812-c622c89dd244"
   },
   "outputs": [
    {
     "data": {
      "text/plain": [
       "array(['покупка жилья', 'приобретение автомобиля',\n",
       "       'дополнительное образование', 'сыграть свадьбу',\n",
       "       'операции с жильем', 'образование', 'на проведение свадьбы',\n",
       "       'покупка жилья для семьи', 'покупка недвижимости',\n",
       "       'покупка коммерческой недвижимости', 'покупка жилой недвижимости',\n",
       "       'строительство собственной недвижимости', 'недвижимость',\n",
       "       'строительство недвижимости', 'на покупку подержанного автомобиля',\n",
       "       'на покупку своего автомобиля',\n",
       "       'операции с коммерческой недвижимостью',\n",
       "       'строительство жилой недвижимости', 'жилье',\n",
       "       'операции со своей недвижимостью', 'автомобили',\n",
       "       'заняться образованием', 'сделка с подержанным автомобилем',\n",
       "       'получение образования', 'автомобиль', 'свадьба',\n",
       "       'получение дополнительного образования', 'покупка своего жилья',\n",
       "       'операции с недвижимостью', 'получение высшего образования',\n",
       "       'свой автомобиль', 'сделка с автомобилем',\n",
       "       'профильное образование', 'высшее образование',\n",
       "       'покупка жилья для сдачи', 'на покупку автомобиля', 'ремонт жилью',\n",
       "       'заняться высшим образованием'], dtype=object)"
      ]
     },
     "execution_count": 19,
     "metadata": {},
     "output_type": "execute_result"
    }
   ],
   "source": [
    "data['purpose'].unique()"
   ]
  },
  {
   "cell_type": "markdown",
   "id": "52b79d56",
   "metadata": {
    "deletable": false,
    "editable": false,
    "id": "52b79d56"
   },
   "source": [
    "Создадим функцию, которая на основании данных из столбца `purpose` сформирует новый столбец `purpose_category`, в который войдут следующие категории:**\n",
    "\n",
    "- `'операции с автомобилем'`,\n",
    "- `'операции с недвижимостью'`,\n",
    "- `'проведение свадьбы'`,\n",
    "- `'получение образования'`.\n",
    "\n",
    "**Например, если в столбце `purpose` находится подстрока `'на покупку автомобиля'`, то в столбце `purpose_category` должна появиться строка `'операции с автомобилем'`.**\n"
   ]
  },
  {
   "cell_type": "code",
   "execution_count": 20,
   "id": "be41da5d",
   "metadata": {
    "deletable": false,
    "id": "be41da5d"
   },
   "outputs": [],
   "source": [
    "def categorize_purpose(row):\n",
    "    try:\n",
    "        if 'автом' in row:\n",
    "            return 'операции с автомобилем'\n",
    "        elif 'жил' in row or 'недвиж' in row:\n",
    "            return 'операции с недвижимостью'\n",
    "        elif 'свад' in row:\n",
    "            return 'проведение свадьбы'\n",
    "        elif 'образов' in row:\n",
    "            return 'получение образования'\n",
    "    except:\n",
    "        return 'нет категории'"
   ]
  },
  {
   "cell_type": "code",
   "execution_count": 21,
   "id": "94c4a19a",
   "metadata": {
    "deletable": false,
    "id": "94c4a19a"
   },
   "outputs": [],
   "source": [
    "data['purpose_category'] = data['purpose'].apply(categorize_purpose)"
   ]
  },
  {
   "cell_type": "markdown",
   "id": "648db036",
   "metadata": {
    "deletable": false,
    "editable": false,
    "id": "648db036"
   },
   "source": [
    "#### 3.1 Есть ли зависимость между количеством детей и возвратом кредита в срок?"
   ]
  },
  {
   "cell_type": "markdown",
   "id": "62969a46",
   "metadata": {},
   "source": [
    "Для установления степени взаимосвязи между рассматриваемыми показателями *необходимо*:\n",
    "1. Перевести количественную переменную 'children' в категориальную:\n",
    "    - Разделить на несколько категорий: 'без детей', 'до 3-ех детей', 'более 3-ех детей'.\n",
    "    Для этого создадим отдельный столбец в датафрейме, который будет включать в себя данные категории.\n",
    "2. Создать сводную таблицу для возможности сравнения двух показателей"
   ]
  },
  {
   "cell_type": "code",
   "execution_count": 22,
   "id": "7fcff25e",
   "metadata": {
    "deletable": false,
    "id": "7fcff25e"
   },
   "outputs": [],
   "source": [
    "def child_def(children):\n",
    "    if 1<=children<=2:\n",
    "        return 'до 2-х детей'\n",
    "    if children >=3:\n",
    "        return 'более 3-ех детей'\n",
    "    return 'без детей' #функция категоризации"
   ]
  },
  {
   "cell_type": "code",
   "execution_count": 23,
   "id": "fe66ad06",
   "metadata": {},
   "outputs": [],
   "source": [
    "data['child_categorize'] = data['children'].apply(child_def) #добавляем новый столбец"
   ]
  },
  {
   "cell_type": "code",
   "execution_count": 24,
   "id": "78214503",
   "metadata": {},
   "outputs": [
    {
     "data": {
      "text/html": [
       "<div>\n",
       "<style scoped>\n",
       "    .dataframe tbody tr th:only-of-type {\n",
       "        vertical-align: middle;\n",
       "    }\n",
       "\n",
       "    .dataframe tbody tr th {\n",
       "        vertical-align: top;\n",
       "    }\n",
       "\n",
       "    .dataframe thead th {\n",
       "        text-align: right;\n",
       "    }\n",
       "</style>\n",
       "<table border=\"1\" class=\"dataframe\">\n",
       "  <thead>\n",
       "    <tr style=\"text-align: right;\">\n",
       "      <th></th>\n",
       "      <th>children</th>\n",
       "      <th>days_employed</th>\n",
       "      <th>dob_years</th>\n",
       "      <th>education</th>\n",
       "      <th>education_id</th>\n",
       "      <th>family_status</th>\n",
       "      <th>family_status_id</th>\n",
       "      <th>gender</th>\n",
       "      <th>income_type</th>\n",
       "      <th>debt</th>\n",
       "      <th>total_income</th>\n",
       "      <th>purpose</th>\n",
       "      <th>total_income_category</th>\n",
       "      <th>purpose_category</th>\n",
       "      <th>child_categorize</th>\n",
       "    </tr>\n",
       "  </thead>\n",
       "  <tbody>\n",
       "    <tr>\n",
       "      <th>0</th>\n",
       "      <td>1</td>\n",
       "      <td>8437.673028</td>\n",
       "      <td>42</td>\n",
       "      <td>высшее</td>\n",
       "      <td>0</td>\n",
       "      <td>женат / замужем</td>\n",
       "      <td>0</td>\n",
       "      <td>F</td>\n",
       "      <td>сотрудник</td>\n",
       "      <td>0</td>\n",
       "      <td>253875</td>\n",
       "      <td>покупка жилья</td>\n",
       "      <td>B</td>\n",
       "      <td>операции с недвижимостью</td>\n",
       "      <td>до 2-х детей</td>\n",
       "    </tr>\n",
       "    <tr>\n",
       "      <th>1</th>\n",
       "      <td>1</td>\n",
       "      <td>4024.803754</td>\n",
       "      <td>36</td>\n",
       "      <td>среднее</td>\n",
       "      <td>1</td>\n",
       "      <td>женат / замужем</td>\n",
       "      <td>0</td>\n",
       "      <td>F</td>\n",
       "      <td>сотрудник</td>\n",
       "      <td>0</td>\n",
       "      <td>112080</td>\n",
       "      <td>приобретение автомобиля</td>\n",
       "      <td>C</td>\n",
       "      <td>операции с автомобилем</td>\n",
       "      <td>до 2-х детей</td>\n",
       "    </tr>\n",
       "    <tr>\n",
       "      <th>2</th>\n",
       "      <td>0</td>\n",
       "      <td>5623.422610</td>\n",
       "      <td>33</td>\n",
       "      <td>среднее</td>\n",
       "      <td>1</td>\n",
       "      <td>женат / замужем</td>\n",
       "      <td>0</td>\n",
       "      <td>M</td>\n",
       "      <td>сотрудник</td>\n",
       "      <td>0</td>\n",
       "      <td>145885</td>\n",
       "      <td>покупка жилья</td>\n",
       "      <td>C</td>\n",
       "      <td>операции с недвижимостью</td>\n",
       "      <td>без детей</td>\n",
       "    </tr>\n",
       "    <tr>\n",
       "      <th>3</th>\n",
       "      <td>3</td>\n",
       "      <td>4124.747207</td>\n",
       "      <td>32</td>\n",
       "      <td>среднее</td>\n",
       "      <td>1</td>\n",
       "      <td>женат / замужем</td>\n",
       "      <td>0</td>\n",
       "      <td>M</td>\n",
       "      <td>сотрудник</td>\n",
       "      <td>0</td>\n",
       "      <td>267628</td>\n",
       "      <td>дополнительное образование</td>\n",
       "      <td>B</td>\n",
       "      <td>получение образования</td>\n",
       "      <td>более 3-ех детей</td>\n",
       "    </tr>\n",
       "    <tr>\n",
       "      <th>4</th>\n",
       "      <td>0</td>\n",
       "      <td>340266.072047</td>\n",
       "      <td>53</td>\n",
       "      <td>среднее</td>\n",
       "      <td>1</td>\n",
       "      <td>гражданский брак</td>\n",
       "      <td>1</td>\n",
       "      <td>F</td>\n",
       "      <td>пенсионер</td>\n",
       "      <td>0</td>\n",
       "      <td>158616</td>\n",
       "      <td>сыграть свадьбу</td>\n",
       "      <td>C</td>\n",
       "      <td>проведение свадьбы</td>\n",
       "      <td>без детей</td>\n",
       "    </tr>\n",
       "  </tbody>\n",
       "</table>\n",
       "</div>"
      ],
      "text/plain": [
       "   children  days_employed  dob_years education  education_id  \\\n",
       "0         1    8437.673028         42    высшее             0   \n",
       "1         1    4024.803754         36   среднее             1   \n",
       "2         0    5623.422610         33   среднее             1   \n",
       "3         3    4124.747207         32   среднее             1   \n",
       "4         0  340266.072047         53   среднее             1   \n",
       "\n",
       "      family_status  family_status_id gender income_type  debt  total_income  \\\n",
       "0   женат / замужем                 0      F   сотрудник     0        253875   \n",
       "1   женат / замужем                 0      F   сотрудник     0        112080   \n",
       "2   женат / замужем                 0      M   сотрудник     0        145885   \n",
       "3   женат / замужем                 0      M   сотрудник     0        267628   \n",
       "4  гражданский брак                 1      F   пенсионер     0        158616   \n",
       "\n",
       "                      purpose total_income_category          purpose_category  \\\n",
       "0               покупка жилья                     B  операции с недвижимостью   \n",
       "1     приобретение автомобиля                     C    операции с автомобилем   \n",
       "2               покупка жилья                     C  операции с недвижимостью   \n",
       "3  дополнительное образование                     B     получение образования   \n",
       "4             сыграть свадьбу                     C        проведение свадьбы   \n",
       "\n",
       "   child_categorize  \n",
       "0      до 2-х детей  \n",
       "1      до 2-х детей  \n",
       "2         без детей  \n",
       "3  более 3-ех детей  \n",
       "4         без детей  "
      ]
     },
     "execution_count": 24,
     "metadata": {},
     "output_type": "execute_result"
    }
   ],
   "source": [
    "data.head() #проверяем наличие нового столбца, выведем первые 5 значений"
   ]
  },
  {
   "cell_type": "code",
   "execution_count": 25,
   "id": "55ab1fda",
   "metadata": {},
   "outputs": [
    {
     "data": {
      "text/html": [
       "<div>\n",
       "<style scoped>\n",
       "    .dataframe tbody tr th:only-of-type {\n",
       "        vertical-align: middle;\n",
       "    }\n",
       "\n",
       "    .dataframe tbody tr th {\n",
       "        vertical-align: top;\n",
       "    }\n",
       "\n",
       "    .dataframe thead th {\n",
       "        text-align: right;\n",
       "    }\n",
       "</style>\n",
       "<table border=\"1\" class=\"dataframe\">\n",
       "  <thead>\n",
       "    <tr style=\"text-align: right;\">\n",
       "      <th></th>\n",
       "      <th>no_debt</th>\n",
       "      <th>debt</th>\n",
       "      <th>share</th>\n",
       "    </tr>\n",
       "    <tr>\n",
       "      <th>child_categorize</th>\n",
       "      <th></th>\n",
       "      <th></th>\n",
       "      <th></th>\n",
       "    </tr>\n",
       "  </thead>\n",
       "  <tbody>\n",
       "    <tr>\n",
       "      <th>без детей</th>\n",
       "      <td>13028</td>\n",
       "      <td>1063</td>\n",
       "      <td>7.543822</td>\n",
       "    </tr>\n",
       "    <tr>\n",
       "      <th>более 3-ех детей</th>\n",
       "      <td>349</td>\n",
       "      <td>31</td>\n",
       "      <td>8.157895</td>\n",
       "    </tr>\n",
       "    <tr>\n",
       "      <th>до 2-х детей</th>\n",
       "      <td>6222</td>\n",
       "      <td>638</td>\n",
       "      <td>9.300292</td>\n",
       "    </tr>\n",
       "  </tbody>\n",
       "</table>\n",
       "</div>"
      ],
      "text/plain": [
       "                  no_debt  debt     share\n",
       "child_categorize                         \n",
       "без детей           13028  1063  7.543822\n",
       "более 3-ех детей      349    31  8.157895\n",
       "до 2-х детей         6222   638  9.300292"
      ]
     },
     "execution_count": 25,
     "metadata": {},
     "output_type": "execute_result"
    }
   ],
   "source": [
    "child_debt = data.pivot_table(index='child_categorize', columns='debt', values='gender', aggfunc='count')\n",
    "#создаем сводную таблицу, где по столбцу 'children_rank' \n",
    "#и по значению столбца 'debt' будет происходить группировка данных\n",
    "child_debt.columns = ['no_debt', 'debt'] #создаем столбцы \n",
    "child_debt['share'] = child_debt['debt'] * 100 / (child_debt['debt'] + child_debt['no_debt']) #находим долю должников\n",
    "child_debt.sort_values(by='share')#сортируем по столбцу 'share' по возрастанию"
   ]
  },
  {
   "cell_type": "markdown",
   "id": "2eb9088e",
   "metadata": {
    "deletable": false,
    "id": "2eb9088e"
   },
   "source": [
    "**Вывод:** *Доля должников, у которых не более 2-х детей, имеет наибольший удельный вес.* \n",
    "Можно предположить, что далеко не каждая семья с 1-2 детьми способна справиться с той финансовой нагрузкой, которая возникает в связи с появлением дополнительных расходов на содержание детей. Вместе с этим, доля должников среди многодетных семей, где более 3-ех детей (8.15%), ниже того же показателя среди должников в категории \"до 2-х детей\"(9.3%) на 1,15%. Возможно, это связано с более рациональным планированием доходов и расходов в данных семьях, т.к наличие 3-го ребенка можно объяснить желанием, а главное **возможностью родителей** обеспечить всех своих детей всем необходимым; также данную тенденцию можно объяснить существованием государственной поддержки многодетных семей, что в свою очередь способно снизить финансовую нагрузку. Показатель семей без детей (7.54%) имеет наименьший удельный вес, что логически объясняется отсутствием финансовой нагрузки на содержание детей."
   ]
  },
  {
   "cell_type": "markdown",
   "id": "74c9b3a7",
   "metadata": {
    "deletable": false,
    "editable": false,
    "id": "74c9b3a7"
   },
   "source": [
    "#### 3.2 Есть ли зависимость между семейным положением и возвратом кредита в срок?"
   ]
  },
  {
   "cell_type": "code",
   "execution_count": 26,
   "id": "8098ab3b",
   "metadata": {
    "deletable": false,
    "id": "8098ab3b"
   },
   "outputs": [
    {
     "data": {
      "text/plain": [
       "array(['женат / замужем', 'гражданский брак', 'вдовец / вдова',\n",
       "       'в разводе', 'Не женат / не замужем'], dtype=object)"
      ]
     },
     "execution_count": 26,
     "metadata": {},
     "output_type": "execute_result"
    }
   ],
   "source": [
    "data['family_status'].unique() #выведем все уникальные значение столбца"
   ]
  },
  {
   "cell_type": "code",
   "execution_count": 27,
   "id": "d7d946d9",
   "metadata": {},
   "outputs": [
    {
     "data": {
      "text/html": [
       "<div>\n",
       "<style scoped>\n",
       "    .dataframe tbody tr th:only-of-type {\n",
       "        vertical-align: middle;\n",
       "    }\n",
       "\n",
       "    .dataframe tbody tr th {\n",
       "        vertical-align: top;\n",
       "    }\n",
       "\n",
       "    .dataframe thead th {\n",
       "        text-align: right;\n",
       "    }\n",
       "</style>\n",
       "<table border=\"1\" class=\"dataframe\">\n",
       "  <thead>\n",
       "    <tr style=\"text-align: right;\">\n",
       "      <th></th>\n",
       "      <th>no_debt</th>\n",
       "      <th>debt</th>\n",
       "      <th>share</th>\n",
       "    </tr>\n",
       "    <tr>\n",
       "      <th>family_status</th>\n",
       "      <th></th>\n",
       "      <th></th>\n",
       "      <th></th>\n",
       "    </tr>\n",
       "  </thead>\n",
       "  <tbody>\n",
       "    <tr>\n",
       "      <th>вдовец / вдова</th>\n",
       "      <td>888</td>\n",
       "      <td>63</td>\n",
       "      <td>6.624606</td>\n",
       "    </tr>\n",
       "    <tr>\n",
       "      <th>в разводе</th>\n",
       "      <td>1105</td>\n",
       "      <td>84</td>\n",
       "      <td>7.064760</td>\n",
       "    </tr>\n",
       "    <tr>\n",
       "      <th>женат / замужем</th>\n",
       "      <td>11334</td>\n",
       "      <td>927</td>\n",
       "      <td>7.560558</td>\n",
       "    </tr>\n",
       "    <tr>\n",
       "      <th>гражданский брак</th>\n",
       "      <td>3749</td>\n",
       "      <td>385</td>\n",
       "      <td>9.313014</td>\n",
       "    </tr>\n",
       "    <tr>\n",
       "      <th>Не женат / не замужем</th>\n",
       "      <td>2523</td>\n",
       "      <td>273</td>\n",
       "      <td>9.763948</td>\n",
       "    </tr>\n",
       "  </tbody>\n",
       "</table>\n",
       "</div>"
      ],
      "text/plain": [
       "                       no_debt  debt     share\n",
       "family_status                                 \n",
       "вдовец / вдова             888    63  6.624606\n",
       "в разводе                 1105    84  7.064760\n",
       "женат / замужем          11334   927  7.560558\n",
       "гражданский брак          3749   385  9.313014\n",
       "Не женат / не замужем     2523   273  9.763948"
      ]
     },
     "execution_count": 27,
     "metadata": {},
     "output_type": "execute_result"
    }
   ],
   "source": [
    "family_debt = data.pivot_table(index='family_status', columns='debt', values='gender', aggfunc='count')\n",
    "#создаем сводную таблицу, где по столбцу 'family_status' \n",
    "#и по значению столбца 'debt' будет происходить группировка данных\n",
    "family_debt.columns = ['no_debt', 'debt'] #создаем столбцы \n",
    "family_debt['share'] = family_debt['debt'] * 100 / (family_debt['debt'] + family_debt['no_debt']) #находим долю должников\n",
    "family_debt.sort_values(by='share')#сортируем по столбцу 'share' по возрастанию"
   ]
  },
  {
   "cell_type": "markdown",
   "id": "c389ca63",
   "metadata": {
    "deletable": false,
    "id": "c389ca63"
   },
   "source": [
    "**Вывод:** *Доля должников в статусе \"Не женат / не замужем\" имеет наибольший удельный вес.* \n",
    "Стоит также отметить, что доля должников, проживающих в гражданском браке (9.31%), имеет одно из наибольших значений и почти равно  наибольшему показателю (9.76%). Это можно объяснить более фривольным планированием доходов и расходов, не обремененных институтом семьи. Так, доля должников, которые находятся (7.56%) или пребывали в браке (7.06%), гораздо ниже предыдущих показателей. Среди вдов и вдовцов показатель имеет наименьший результат (6.62%), что объясняется более рациональным подходом к планированию бюджета, а также наличием большого опыта расходования средств во всех предыдущих семейных статусах."
   ]
  },
  {
   "cell_type": "markdown",
   "id": "9529de68",
   "metadata": {
    "deletable": false,
    "editable": false,
    "id": "9529de68"
   },
   "source": [
    "#### 3.3 Есть ли зависимость между уровнем дохода и возвратом кредита в срок?"
   ]
  },
  {
   "cell_type": "markdown",
   "id": "3c560f4e",
   "metadata": {},
   "source": [
    "- 0–30000 — `'E'`;\n",
    "- 30001–50000 — `'D'`;\n",
    "- 50001–200000 — `'C'`;\n",
    "- 200001–1000000 — `'B'`;\n",
    "- 1000001 и выше — `'A'`."
   ]
  },
  {
   "cell_type": "code",
   "execution_count": 28,
   "id": "8787f44a",
   "metadata": {
    "deletable": false,
    "id": "8787f44a"
   },
   "outputs": [
    {
     "data": {
      "text/html": [
       "<div>\n",
       "<style scoped>\n",
       "    .dataframe tbody tr th:only-of-type {\n",
       "        vertical-align: middle;\n",
       "    }\n",
       "\n",
       "    .dataframe tbody tr th {\n",
       "        vertical-align: top;\n",
       "    }\n",
       "\n",
       "    .dataframe thead th {\n",
       "        text-align: right;\n",
       "    }\n",
       "</style>\n",
       "<table border=\"1\" class=\"dataframe\">\n",
       "  <thead>\n",
       "    <tr style=\"text-align: right;\">\n",
       "      <th></th>\n",
       "      <th>no_debt</th>\n",
       "      <th>debt</th>\n",
       "      <th>share</th>\n",
       "    </tr>\n",
       "    <tr>\n",
       "      <th>total_income_category</th>\n",
       "      <th></th>\n",
       "      <th></th>\n",
       "      <th></th>\n",
       "    </tr>\n",
       "  </thead>\n",
       "  <tbody>\n",
       "    <tr>\n",
       "      <th>D</th>\n",
       "      <td>328</td>\n",
       "      <td>21</td>\n",
       "      <td>6.017192</td>\n",
       "    </tr>\n",
       "    <tr>\n",
       "      <th>B</th>\n",
       "      <td>4660</td>\n",
       "      <td>354</td>\n",
       "      <td>7.060231</td>\n",
       "    </tr>\n",
       "    <tr>\n",
       "      <th>A</th>\n",
       "      <td>23</td>\n",
       "      <td>2</td>\n",
       "      <td>8.000000</td>\n",
       "    </tr>\n",
       "    <tr>\n",
       "      <th>C</th>\n",
       "      <td>14568</td>\n",
       "      <td>1353</td>\n",
       "      <td>8.498210</td>\n",
       "    </tr>\n",
       "    <tr>\n",
       "      <th>E</th>\n",
       "      <td>20</td>\n",
       "      <td>2</td>\n",
       "      <td>9.090909</td>\n",
       "    </tr>\n",
       "  </tbody>\n",
       "</table>\n",
       "</div>"
      ],
      "text/plain": [
       "                       no_debt  debt     share\n",
       "total_income_category                         \n",
       "D                          328    21  6.017192\n",
       "B                         4660   354  7.060231\n",
       "A                           23     2  8.000000\n",
       "C                        14568  1353  8.498210\n",
       "E                           20     2  9.090909"
      ]
     },
     "execution_count": 28,
     "metadata": {},
     "output_type": "execute_result"
    }
   ],
   "source": [
    "income_debt = data.pivot_table(index='total_income_category', columns='debt', values='gender', aggfunc='count')\n",
    "#создаем сводную таблицу, где по столбцу 'total_income_category' \n",
    "#и по значению столбца 'debt' будет происходить группировка данных\n",
    "income_debt.columns = ['no_debt', 'debt'] #создаем столбцы \n",
    "income_debt['share'] = income_debt['debt'] * 100 / (income_debt['debt'] + income_debt['no_debt']) #находим долю должников\n",
    "income_debt.sort_values(by='share')#сортируем по столбцу 'share' по возрастанию"
   ]
  },
  {
   "cell_type": "markdown",
   "id": "6dd14b57",
   "metadata": {
    "deletable": false,
    "id": "6dd14b57"
   },
   "source": [
    "**Вывод:** *Доля должников среди людей с уровнем дохода от 50001-200000 **категория С** имеет наибольший удельный вес.*\n",
    "Важно отметить, что категории А и Е не являются репрезентативными, т.к. выборка не достаточно высокая для наиболее объективного анализа. Следовательно, остается рассматривать категорию С (50001-200000)(8.49%), которая является наибольшей, а также В (доход: 200001–1000000)(7.06%) и D (30001–50000)(6.01%). Выводы можно сделать следующие: в категорию С входит средний уровень дохода, а также наибольшее количество участников, поэтому доля должников наибольшая; категория В с самим высоким доходом, при этом доля должников значительно ниже относительно категории С, в категории D (с самым низким доходом) наименьшее число должников, что можно объяснить высоким уровнем отказов от банка в выдаче данной категории кредитов. \n",
    "\n",
    "\n"
   ]
  },
  {
   "cell_type": "markdown",
   "id": "1dcc9b12",
   "metadata": {
    "deletable": false,
    "editable": false,
    "id": "1dcc9b12"
   },
   "source": [
    "#### 3.4 Как разные цели кредита влияют на его возврат в срок?"
   ]
  },
  {
   "cell_type": "markdown",
   "id": "70dad350",
   "metadata": {},
   "source": [
    "- `'операции с автомобилем'`,\n",
    "- `'операции с недвижимостью'`,\n",
    "- `'проведение свадьбы'`,\n",
    "- `'получение образования'`."
   ]
  },
  {
   "cell_type": "code",
   "execution_count": 29,
   "id": "c602bc8b",
   "metadata": {
    "deletable": false,
    "id": "c602bc8b"
   },
   "outputs": [
    {
     "data": {
      "text/html": [
       "<div>\n",
       "<style scoped>\n",
       "    .dataframe tbody tr th:only-of-type {\n",
       "        vertical-align: middle;\n",
       "    }\n",
       "\n",
       "    .dataframe tbody tr th {\n",
       "        vertical-align: top;\n",
       "    }\n",
       "\n",
       "    .dataframe thead th {\n",
       "        text-align: right;\n",
       "    }\n",
       "</style>\n",
       "<table border=\"1\" class=\"dataframe\">\n",
       "  <thead>\n",
       "    <tr style=\"text-align: right;\">\n",
       "      <th></th>\n",
       "      <th>no_debt</th>\n",
       "      <th>debt</th>\n",
       "      <th>share</th>\n",
       "    </tr>\n",
       "    <tr>\n",
       "      <th>purpose_category</th>\n",
       "      <th></th>\n",
       "      <th></th>\n",
       "      <th></th>\n",
       "    </tr>\n",
       "  </thead>\n",
       "  <tbody>\n",
       "    <tr>\n",
       "      <th>операции с недвижимостью</th>\n",
       "      <td>9971</td>\n",
       "      <td>780</td>\n",
       "      <td>7.255139</td>\n",
       "    </tr>\n",
       "    <tr>\n",
       "      <th>проведение свадьбы</th>\n",
       "      <td>2130</td>\n",
       "      <td>183</td>\n",
       "      <td>7.911803</td>\n",
       "    </tr>\n",
       "    <tr>\n",
       "      <th>получение образования</th>\n",
       "      <td>3619</td>\n",
       "      <td>369</td>\n",
       "      <td>9.252758</td>\n",
       "    </tr>\n",
       "    <tr>\n",
       "      <th>операции с автомобилем</th>\n",
       "      <td>3879</td>\n",
       "      <td>400</td>\n",
       "      <td>9.347978</td>\n",
       "    </tr>\n",
       "  </tbody>\n",
       "</table>\n",
       "</div>"
      ],
      "text/plain": [
       "                          no_debt  debt     share\n",
       "purpose_category                                 \n",
       "операции с недвижимостью     9971   780  7.255139\n",
       "проведение свадьбы           2130   183  7.911803\n",
       "получение образования        3619   369  9.252758\n",
       "операции с автомобилем       3879   400  9.347978"
      ]
     },
     "execution_count": 29,
     "metadata": {},
     "output_type": "execute_result"
    }
   ],
   "source": [
    "purpose_debt = data.pivot_table(index='purpose_category', columns='debt', values='gender', aggfunc='count')\n",
    "#создаем сводную таблицу, где по столбцу 'purpose_category' \n",
    "#и по значению столбца 'debt' будет происходить группировка данных\n",
    "purpose_debt.columns = ['no_debt', 'debt'] #создаем столбцы \n",
    "purpose_debt['share'] = purpose_debt['debt'] * 100 / (purpose_debt['debt'] + purpose_debt['no_debt']) #находим долю должников \n",
    "purpose_debt.sort_values(by='share')#сортируем по столбцу 'share' по возрастанию"
   ]
  },
  {
   "cell_type": "markdown",
   "id": "cf05ed63",
   "metadata": {
    "deletable": false,
    "id": "cf05ed63"
   },
   "source": [
    "**Вывод:** *Доли должников среди автомобилистов и желающих получить образовние имеют наибольший удельный вес.*\n",
    "Вместе с этим доли среди желающих провести свадьбу и операции с недвижимостью относительно ниже. Последняя цель на получение кредита заставляет более ответственно подходить к вопросу выплаты кредита и планирования своего бюджета."
   ]
  },
  {
   "cell_type": "markdown",
   "id": "46c1f10b",
   "metadata": {
    "deletable": false,
    "editable": false,
    "id": "46c1f10b"
   },
   "source": [
    "#### 3.5 Приведите возможные причины появления пропусков в исходных данных."
   ]
  },
  {
   "cell_type": "markdown",
   "id": "3697d2a9",
   "metadata": {
    "deletable": false,
    "id": "3697d2a9"
   },
   "source": [
    "*Ответ:* Одни из причин: технические проблемы: повреждение файла при сохранении, сбой работы программы и др., а также человеческий фактор: невнимательность и т.д."
   ]
  },
  {
   "cell_type": "markdown",
   "id": "3137d257",
   "metadata": {
    "deletable": false,
    "editable": false,
    "id": "3137d257"
   },
   "source": [
    "#### 3.6 Объясните, почему заполнить пропуски медианным значением — лучшее решение для количественных переменных."
   ]
  },
  {
   "cell_type": "markdown",
   "id": "cf40012a",
   "metadata": {
    "deletable": false,
    "id": "cf40012a"
   },
   "source": [
    "*Ответ:* медиана представляет собой число в выборке, между двумя половинами: одна больше\n",
    "него, а другая — меньше. Следовательно, она идеально подходит для замены аномальных значений."
   ]
  },
  {
   "cell_type": "markdown",
   "id": "57bc304e",
   "metadata": {
    "deletable": false,
    "editable": false,
    "id": "57bc304e"
   },
   "source": [
    "# Общий вывод."
   ]
  },
  {
   "cell_type": "markdown",
   "id": "1ab75d1c",
   "metadata": {
    "deletable": false,
    "id": "1ab75d1c"
   },
   "source": [
    "#### Предобработка данных\n",
    "*В рамках предобработки данных были произведены следующие операции*: \n",
    "- удаление пропусков и их заполнение медианным значением по столбцу;\n",
    "- обработка аномальных значений;\n",
    "- изменение типов данных;\n",
    "- обработка дупликатов;\n",
    "- категоризация данных.\n",
    "\n",
    "#### Ответы на поставленные вопросы в рамках исследования данных\n",
    "1. **Была выявлена зависимость между количеством детей и невозвратом кредита в срок.**  \n",
    "Так, наличие одного или двух детей повышает вероятность непогашения долга.\n",
    "\n",
    "2. **Была выявлена зависимость между семейным положением и невозвратом кредита в срок.**  \n",
    "Должников среди людей, которые не состоят/не состояли в браке или брак которых не зарегистрирован официально, наибольшее число.\n",
    "\n",
    "3. **Была выявлена зависимость между уровнем дохода и невозвратом кредита в срок.**  \n",
    "Банк выдает наибольшее число кредитов людям со средним заработком, что и объясняется наибольшей долей должников среди данной категории.\n",
    "\n",
    "4. **Существует взаимосвязь между целями на получение кредита и сроком его возврата**: люди, которые берут кредиты на операции с авто или получение образования, имеют большие шансы стать должниками.\n",
    "\n",
    "5. **Причины появления пропусков в исходных данных можно разделить на две категории**: технические и человеческий фактор.\n",
    "\n",
    "6. **Медиана наиболее устойчива к аномальным изменениям в общем массиве данных.**"
   ]
  }
 ],
 "metadata": {
  "ExecuteTimeLog": [
   {
    "duration": 87,
    "start_time": "2023-05-24T08:20:39.913Z"
   },
   {
    "duration": 52,
    "start_time": "2023-05-24T08:31:34.566Z"
   },
   {
    "duration": 8,
    "start_time": "2023-05-24T08:48:46.274Z"
   },
   {
    "duration": 8,
    "start_time": "2023-05-24T08:48:48.860Z"
   },
   {
    "duration": 4,
    "start_time": "2023-05-24T08:50:29.280Z"
   },
   {
    "duration": 14,
    "start_time": "2023-05-24T08:50:30.428Z"
   },
   {
    "duration": 7,
    "start_time": "2023-05-24T08:50:31.378Z"
   },
   {
    "duration": 7,
    "start_time": "2023-05-24T08:50:32.398Z"
   },
   {
    "duration": 627,
    "start_time": "2023-05-24T11:08:53.610Z"
   },
   {
    "duration": 27,
    "start_time": "2023-05-24T11:08:54.239Z"
   },
   {
    "duration": 19,
    "start_time": "2023-05-24T11:08:54.268Z"
   },
   {
    "duration": 12,
    "start_time": "2023-05-24T11:08:54.290Z"
   },
   {
    "duration": 68,
    "start_time": "2023-05-24T11:08:54.304Z"
   },
   {
    "duration": 7,
    "start_time": "2023-05-24T11:08:54.375Z"
   },
   {
    "duration": 22,
    "start_time": "2023-05-24T11:08:54.384Z"
   },
   {
    "duration": 5,
    "start_time": "2023-05-24T11:08:54.408Z"
   },
   {
    "duration": 9,
    "start_time": "2023-05-24T11:08:54.414Z"
   },
   {
    "duration": 5,
    "start_time": "2023-05-24T11:08:54.426Z"
   },
   {
    "duration": 57,
    "start_time": "2023-05-24T11:08:54.432Z"
   },
   {
    "duration": 11,
    "start_time": "2023-05-24T11:08:54.493Z"
   },
   {
    "duration": 13,
    "start_time": "2023-05-24T11:08:54.506Z"
   },
   {
    "duration": 13,
    "start_time": "2023-05-24T11:08:54.521Z"
   },
   {
    "duration": 49,
    "start_time": "2023-05-24T11:08:54.536Z"
   },
   {
    "duration": 26,
    "start_time": "2023-05-24T11:08:54.588Z"
   },
   {
    "duration": 4,
    "start_time": "2023-05-24T11:08:54.616Z"
   },
   {
    "duration": 37,
    "start_time": "2023-05-24T11:08:54.622Z"
   },
   {
    "duration": 14,
    "start_time": "2023-05-24T11:08:54.662Z"
   },
   {
    "duration": 5,
    "start_time": "2023-05-24T11:08:54.678Z"
   },
   {
    "duration": 15,
    "start_time": "2023-05-24T11:08:54.685Z"
   },
   {
    "duration": 10,
    "start_time": "2023-05-24T11:08:54.702Z"
   },
   {
    "duration": 11,
    "start_time": "2023-05-24T11:08:54.714Z"
   },
   {
    "duration": 34,
    "start_time": "2023-05-24T11:08:54.727Z"
   },
   {
    "duration": 95,
    "start_time": "2023-05-24T11:08:54.762Z"
   },
   {
    "duration": 0,
    "start_time": "2023-05-24T11:08:54.859Z"
   },
   {
    "duration": 0,
    "start_time": "2023-05-24T11:08:54.860Z"
   },
   {
    "duration": 1,
    "start_time": "2023-05-24T11:08:54.861Z"
   },
   {
    "duration": 78,
    "start_time": "2023-05-24T11:09:07.855Z"
   },
   {
    "duration": 15,
    "start_time": "2023-05-24T11:09:07.935Z"
   },
   {
    "duration": 19,
    "start_time": "2023-05-24T11:09:07.952Z"
   },
   {
    "duration": 16,
    "start_time": "2023-05-24T11:09:07.973Z"
   },
   {
    "duration": 59,
    "start_time": "2023-05-24T11:09:07.991Z"
   },
   {
    "duration": 4,
    "start_time": "2023-05-24T11:09:08.052Z"
   },
   {
    "duration": 19,
    "start_time": "2023-05-24T11:09:08.057Z"
   },
   {
    "duration": 13,
    "start_time": "2023-05-24T11:09:08.078Z"
   },
   {
    "duration": 31,
    "start_time": "2023-05-24T11:09:08.092Z"
   },
   {
    "duration": 6,
    "start_time": "2023-05-24T11:09:08.126Z"
   },
   {
    "duration": 43,
    "start_time": "2023-05-24T11:09:08.134Z"
   },
   {
    "duration": 16,
    "start_time": "2023-05-24T11:09:08.179Z"
   },
   {
    "duration": 14,
    "start_time": "2023-05-24T11:09:08.197Z"
   },
   {
    "duration": 48,
    "start_time": "2023-05-24T11:09:08.213Z"
   },
   {
    "duration": 32,
    "start_time": "2023-05-24T11:09:08.263Z"
   },
   {
    "duration": 19,
    "start_time": "2023-05-24T11:09:08.296Z"
   },
   {
    "duration": 4,
    "start_time": "2023-05-24T11:09:08.317Z"
   },
   {
    "duration": 28,
    "start_time": "2023-05-24T11:09:08.323Z"
   },
   {
    "duration": 12,
    "start_time": "2023-05-24T11:09:08.353Z"
   },
   {
    "duration": 24,
    "start_time": "2023-05-24T11:09:08.367Z"
   },
   {
    "duration": 11,
    "start_time": "2023-05-24T11:09:08.393Z"
   },
   {
    "duration": 4,
    "start_time": "2023-05-24T11:09:08.406Z"
   },
   {
    "duration": 15,
    "start_time": "2023-05-24T11:09:08.412Z"
   },
   {
    "duration": 33,
    "start_time": "2023-05-24T11:09:08.429Z"
   },
   {
    "duration": 34,
    "start_time": "2023-05-24T11:09:08.464Z"
   },
   {
    "duration": 0,
    "start_time": "2023-05-24T11:09:08.500Z"
   },
   {
    "duration": 0,
    "start_time": "2023-05-24T11:09:08.501Z"
   },
   {
    "duration": 0,
    "start_time": "2023-05-24T11:09:08.503Z"
   },
   {
    "duration": 70,
    "start_time": "2023-05-24T11:10:07.453Z"
   },
   {
    "duration": 16,
    "start_time": "2023-05-24T11:10:07.525Z"
   },
   {
    "duration": 41,
    "start_time": "2023-05-24T11:10:07.542Z"
   },
   {
    "duration": 30,
    "start_time": "2023-05-24T11:10:07.585Z"
   },
   {
    "duration": 52,
    "start_time": "2023-05-24T11:10:07.617Z"
   },
   {
    "duration": 6,
    "start_time": "2023-05-24T11:10:07.671Z"
   },
   {
    "duration": 29,
    "start_time": "2023-05-24T11:10:07.678Z"
   },
   {
    "duration": 22,
    "start_time": "2023-05-24T11:10:07.708Z"
   },
   {
    "duration": 12,
    "start_time": "2023-05-24T11:10:07.732Z"
   },
   {
    "duration": 12,
    "start_time": "2023-05-24T11:10:07.747Z"
   },
   {
    "duration": 49,
    "start_time": "2023-05-24T11:10:07.761Z"
   },
   {
    "duration": 12,
    "start_time": "2023-05-24T11:10:07.811Z"
   },
   {
    "duration": 7,
    "start_time": "2023-05-24T11:10:07.825Z"
   },
   {
    "duration": 49,
    "start_time": "2023-05-24T11:10:07.834Z"
   },
   {
    "duration": 62,
    "start_time": "2023-05-24T11:10:07.885Z"
   },
   {
    "duration": 20,
    "start_time": "2023-05-24T11:10:07.949Z"
   },
   {
    "duration": 6,
    "start_time": "2023-05-24T11:10:07.972Z"
   },
   {
    "duration": 34,
    "start_time": "2023-05-24T11:10:07.980Z"
   },
   {
    "duration": 22,
    "start_time": "2023-05-24T11:10:08.016Z"
   },
   {
    "duration": 15,
    "start_time": "2023-05-24T11:10:08.040Z"
   },
   {
    "duration": 27,
    "start_time": "2023-05-24T11:10:08.058Z"
   },
   {
    "duration": 9,
    "start_time": "2023-05-24T11:10:08.087Z"
   },
   {
    "duration": 20,
    "start_time": "2023-05-24T11:10:08.099Z"
   },
   {
    "duration": 20,
    "start_time": "2023-05-24T11:10:08.121Z"
   },
   {
    "duration": 40,
    "start_time": "2023-05-24T11:10:08.143Z"
   },
   {
    "duration": 23,
    "start_time": "2023-05-24T11:10:08.184Z"
   },
   {
    "duration": 37,
    "start_time": "2023-05-24T11:10:08.208Z"
   },
   {
    "duration": 6,
    "start_time": "2023-05-24T11:10:08.257Z"
   },
   {
    "duration": 65,
    "start_time": "2023-05-24T11:10:37.312Z"
   },
   {
    "duration": 15,
    "start_time": "2023-05-24T11:10:37.379Z"
   },
   {
    "duration": 21,
    "start_time": "2023-05-24T11:10:37.396Z"
   },
   {
    "duration": 9,
    "start_time": "2023-05-24T11:10:37.419Z"
   },
   {
    "duration": 70,
    "start_time": "2023-05-24T11:10:37.430Z"
   },
   {
    "duration": 4,
    "start_time": "2023-05-24T11:10:37.502Z"
   },
   {
    "duration": 20,
    "start_time": "2023-05-24T11:10:37.508Z"
   },
   {
    "duration": 6,
    "start_time": "2023-05-24T11:10:37.529Z"
   },
   {
    "duration": 7,
    "start_time": "2023-05-24T11:10:37.558Z"
   },
   {
    "duration": 7,
    "start_time": "2023-05-24T11:10:37.568Z"
   },
   {
    "duration": 42,
    "start_time": "2023-05-24T11:10:37.577Z"
   },
   {
    "duration": 9,
    "start_time": "2023-05-24T11:10:37.621Z"
   },
   {
    "duration": 25,
    "start_time": "2023-05-24T11:10:37.632Z"
   },
   {
    "duration": 12,
    "start_time": "2023-05-24T11:10:37.659Z"
   },
   {
    "duration": 21,
    "start_time": "2023-05-24T11:10:37.672Z"
   },
   {
    "duration": 18,
    "start_time": "2023-05-24T11:10:37.695Z"
   },
   {
    "duration": 3,
    "start_time": "2023-05-24T11:10:37.715Z"
   },
   {
    "duration": 37,
    "start_time": "2023-05-24T11:10:37.720Z"
   },
   {
    "duration": 6,
    "start_time": "2023-05-24T11:10:37.759Z"
   },
   {
    "duration": 9,
    "start_time": "2023-05-24T11:10:37.767Z"
   },
   {
    "duration": 13,
    "start_time": "2023-05-24T11:10:37.779Z"
   },
   {
    "duration": 8,
    "start_time": "2023-05-24T11:10:37.794Z"
   },
   {
    "duration": 46,
    "start_time": "2023-05-24T11:10:37.804Z"
   },
   {
    "duration": 24,
    "start_time": "2023-05-24T11:10:37.851Z"
   },
   {
    "duration": 35,
    "start_time": "2023-05-24T11:10:37.876Z"
   },
   {
    "duration": 9,
    "start_time": "2023-05-24T11:10:37.913Z"
   },
   {
    "duration": 21,
    "start_time": "2023-05-24T11:10:37.924Z"
   },
   {
    "duration": 23,
    "start_time": "2023-05-24T11:10:37.949Z"
   },
   {
    "duration": 67,
    "start_time": "2023-05-24T11:19:59.072Z"
   },
   {
    "duration": 16,
    "start_time": "2023-05-24T11:19:59.141Z"
   },
   {
    "duration": 21,
    "start_time": "2023-05-24T11:19:59.158Z"
   },
   {
    "duration": 14,
    "start_time": "2023-05-24T11:19:59.182Z"
   },
   {
    "duration": 38,
    "start_time": "2023-05-24T11:19:59.198Z"
   },
   {
    "duration": 4,
    "start_time": "2023-05-24T11:19:59.257Z"
   },
   {
    "duration": 12,
    "start_time": "2023-05-24T11:19:59.263Z"
   },
   {
    "duration": 5,
    "start_time": "2023-05-24T11:19:59.278Z"
   },
   {
    "duration": 11,
    "start_time": "2023-05-24T11:19:59.284Z"
   },
   {
    "duration": 5,
    "start_time": "2023-05-24T11:19:59.298Z"
   },
   {
    "duration": 71,
    "start_time": "2023-05-24T11:19:59.305Z"
   },
   {
    "duration": 13,
    "start_time": "2023-05-24T11:19:59.377Z"
   },
   {
    "duration": 6,
    "start_time": "2023-05-24T11:19:59.392Z"
   },
   {
    "duration": 12,
    "start_time": "2023-05-24T11:19:59.400Z"
   },
   {
    "duration": 46,
    "start_time": "2023-05-24T11:19:59.414Z"
   },
   {
    "duration": 18,
    "start_time": "2023-05-24T11:19:59.462Z"
   },
   {
    "duration": 4,
    "start_time": "2023-05-24T11:19:59.482Z"
   },
   {
    "duration": 25,
    "start_time": "2023-05-24T11:19:59.489Z"
   },
   {
    "duration": 13,
    "start_time": "2023-05-24T11:19:59.515Z"
   },
   {
    "duration": 3,
    "start_time": "2023-05-24T11:19:59.529Z"
   },
   {
    "duration": 10,
    "start_time": "2023-05-24T11:19:59.534Z"
   },
   {
    "duration": 4,
    "start_time": "2023-05-24T11:19:59.557Z"
   },
   {
    "duration": 13,
    "start_time": "2023-05-24T11:19:59.562Z"
   },
   {
    "duration": 24,
    "start_time": "2023-05-24T11:19:59.577Z"
   },
   {
    "duration": 35,
    "start_time": "2023-05-24T11:19:59.602Z"
   },
   {
    "duration": 2,
    "start_time": "2023-05-24T11:19:59.640Z"
   },
   {
    "duration": 2,
    "start_time": "2023-05-24T11:19:59.658Z"
   },
   {
    "duration": 7,
    "start_time": "2023-05-24T11:19:59.662Z"
   },
   {
    "duration": 67,
    "start_time": "2023-05-24T11:20:18.397Z"
   },
   {
    "duration": 15,
    "start_time": "2023-05-24T11:20:18.466Z"
   },
   {
    "duration": 24,
    "start_time": "2023-05-24T11:20:18.483Z"
   },
   {
    "duration": 10,
    "start_time": "2023-05-24T11:20:18.508Z"
   },
   {
    "duration": 71,
    "start_time": "2023-05-24T11:20:18.520Z"
   },
   {
    "duration": 3,
    "start_time": "2023-05-24T11:20:18.593Z"
   },
   {
    "duration": 11,
    "start_time": "2023-05-24T11:20:18.598Z"
   },
   {
    "duration": 5,
    "start_time": "2023-05-24T11:20:18.611Z"
   },
   {
    "duration": 14,
    "start_time": "2023-05-24T11:20:18.618Z"
   },
   {
    "duration": 26,
    "start_time": "2023-05-24T11:20:18.634Z"
   },
   {
    "duration": 47,
    "start_time": "2023-05-24T11:20:18.662Z"
   },
   {
    "duration": 9,
    "start_time": "2023-05-24T11:20:18.711Z"
   },
   {
    "duration": 4,
    "start_time": "2023-05-24T11:20:18.722Z"
   },
   {
    "duration": 36,
    "start_time": "2023-05-24T11:20:18.727Z"
   },
   {
    "duration": 20,
    "start_time": "2023-05-24T11:20:18.765Z"
   },
   {
    "duration": 18,
    "start_time": "2023-05-24T11:20:18.787Z"
   },
   {
    "duration": 4,
    "start_time": "2023-05-24T11:20:18.807Z"
   },
   {
    "duration": 29,
    "start_time": "2023-05-24T11:20:18.813Z"
   },
   {
    "duration": 15,
    "start_time": "2023-05-24T11:20:18.843Z"
   },
   {
    "duration": 3,
    "start_time": "2023-05-24T11:20:18.860Z"
   },
   {
    "duration": 16,
    "start_time": "2023-05-24T11:20:18.865Z"
   },
   {
    "duration": 15,
    "start_time": "2023-05-24T11:20:18.883Z"
   },
   {
    "duration": 13,
    "start_time": "2023-05-24T11:20:18.900Z"
   },
   {
    "duration": 23,
    "start_time": "2023-05-24T11:20:18.916Z"
   },
   {
    "duration": 32,
    "start_time": "2023-05-24T11:20:18.941Z"
   },
   {
    "duration": 3,
    "start_time": "2023-05-24T11:20:18.975Z"
   },
   {
    "duration": 7,
    "start_time": "2023-05-24T11:20:18.979Z"
   },
   {
    "duration": 3,
    "start_time": "2023-05-24T11:20:18.989Z"
   },
   {
    "duration": 70,
    "start_time": "2023-05-24T11:42:21.153Z"
   },
   {
    "duration": 16,
    "start_time": "2023-05-24T11:42:21.225Z"
   },
   {
    "duration": 47,
    "start_time": "2023-05-24T11:42:21.243Z"
   },
   {
    "duration": 33,
    "start_time": "2023-05-24T11:42:21.292Z"
   },
   {
    "duration": 46,
    "start_time": "2023-05-24T11:42:21.328Z"
   },
   {
    "duration": 4,
    "start_time": "2023-05-24T11:42:21.376Z"
   },
   {
    "duration": 27,
    "start_time": "2023-05-24T11:42:21.382Z"
   },
   {
    "duration": 6,
    "start_time": "2023-05-24T11:42:21.411Z"
   },
   {
    "duration": 18,
    "start_time": "2023-05-24T11:42:21.418Z"
   },
   {
    "duration": 5,
    "start_time": "2023-05-24T11:42:21.438Z"
   },
   {
    "duration": 41,
    "start_time": "2023-05-24T11:42:21.445Z"
   },
   {
    "duration": 11,
    "start_time": "2023-05-24T11:42:21.488Z"
   },
   {
    "duration": 46,
    "start_time": "2023-05-24T11:42:21.501Z"
   },
   {
    "duration": 12,
    "start_time": "2023-05-24T11:42:21.556Z"
   },
   {
    "duration": 37,
    "start_time": "2023-05-24T11:42:21.570Z"
   },
   {
    "duration": 16,
    "start_time": "2023-05-24T11:42:21.609Z"
   },
   {
    "duration": 27,
    "start_time": "2023-05-24T11:42:21.626Z"
   },
   {
    "duration": 39,
    "start_time": "2023-05-24T11:42:21.654Z"
   },
   {
    "duration": 19,
    "start_time": "2023-05-24T11:42:21.695Z"
   },
   {
    "duration": 15,
    "start_time": "2023-05-24T11:42:21.716Z"
   },
   {
    "duration": 30,
    "start_time": "2023-05-24T11:42:21.733Z"
   },
   {
    "duration": 12,
    "start_time": "2023-05-24T11:42:21.765Z"
   },
   {
    "duration": 15,
    "start_time": "2023-05-24T11:42:21.779Z"
   },
   {
    "duration": 16,
    "start_time": "2023-05-24T11:42:21.797Z"
   },
   {
    "duration": 29,
    "start_time": "2023-05-24T11:42:21.814Z"
   },
   {
    "duration": 2,
    "start_time": "2023-05-24T11:42:21.844Z"
   },
   {
    "duration": 8,
    "start_time": "2023-05-24T11:42:21.857Z"
   },
   {
    "duration": 8,
    "start_time": "2023-05-24T11:42:21.867Z"
   },
   {
    "duration": 68,
    "start_time": "2023-05-24T11:47:48.750Z"
   },
   {
    "duration": 15,
    "start_time": "2023-05-24T11:47:48.820Z"
   },
   {
    "duration": 20,
    "start_time": "2023-05-24T11:47:48.837Z"
   },
   {
    "duration": 38,
    "start_time": "2023-05-24T11:47:48.859Z"
   },
   {
    "duration": 43,
    "start_time": "2023-05-24T11:47:48.901Z"
   },
   {
    "duration": 3,
    "start_time": "2023-05-24T11:47:48.946Z"
   },
   {
    "duration": 10,
    "start_time": "2023-05-24T11:47:48.951Z"
   },
   {
    "duration": 7,
    "start_time": "2023-05-24T11:47:48.964Z"
   },
   {
    "duration": 10,
    "start_time": "2023-05-24T11:47:48.973Z"
   },
   {
    "duration": 7,
    "start_time": "2023-05-24T11:47:48.985Z"
   },
   {
    "duration": 36,
    "start_time": "2023-05-24T11:47:48.994Z"
   },
   {
    "duration": 30,
    "start_time": "2023-05-24T11:47:49.032Z"
   },
   {
    "duration": 4,
    "start_time": "2023-05-24T11:47:49.065Z"
   },
   {
    "duration": 12,
    "start_time": "2023-05-24T11:47:49.072Z"
   },
   {
    "duration": 21,
    "start_time": "2023-05-24T11:47:49.086Z"
   },
   {
    "duration": 17,
    "start_time": "2023-05-24T11:47:49.109Z"
   },
   {
    "duration": 30,
    "start_time": "2023-05-24T11:47:49.128Z"
   },
   {
    "duration": 12,
    "start_time": "2023-05-24T11:47:49.160Z"
   },
   {
    "duration": 18,
    "start_time": "2023-05-24T11:47:49.174Z"
   },
   {
    "duration": 5,
    "start_time": "2023-05-24T11:47:49.194Z"
   },
   {
    "duration": 11,
    "start_time": "2023-05-24T11:47:49.200Z"
   },
   {
    "duration": 10,
    "start_time": "2023-05-24T11:47:49.212Z"
   },
   {
    "duration": 10,
    "start_time": "2023-05-24T11:47:49.230Z"
   },
   {
    "duration": 23,
    "start_time": "2023-05-24T11:47:49.242Z"
   },
   {
    "duration": 23,
    "start_time": "2023-05-24T11:47:49.267Z"
   },
   {
    "duration": 24,
    "start_time": "2023-05-24T11:47:49.292Z"
   },
   {
    "duration": 22,
    "start_time": "2023-05-24T11:47:49.317Z"
   },
   {
    "duration": 17,
    "start_time": "2023-05-24T11:47:49.340Z"
   },
   {
    "duration": 17,
    "start_time": "2023-05-24T11:49:16.984Z"
   },
   {
    "duration": 5,
    "start_time": "2023-05-24T11:51:40.117Z"
   },
   {
    "duration": 69,
    "start_time": "2023-05-24T11:52:39.176Z"
   },
   {
    "duration": 17,
    "start_time": "2023-05-24T11:52:39.247Z"
   },
   {
    "duration": 24,
    "start_time": "2023-05-24T11:52:39.266Z"
   },
   {
    "duration": 9,
    "start_time": "2023-05-24T11:52:39.292Z"
   },
   {
    "duration": 55,
    "start_time": "2023-05-24T11:52:39.302Z"
   },
   {
    "duration": 4,
    "start_time": "2023-05-24T11:52:39.359Z"
   },
   {
    "duration": 21,
    "start_time": "2023-05-24T11:52:39.365Z"
   },
   {
    "duration": 4,
    "start_time": "2023-05-24T11:52:39.388Z"
   },
   {
    "duration": 8,
    "start_time": "2023-05-24T11:52:39.394Z"
   },
   {
    "duration": 5,
    "start_time": "2023-05-24T11:52:39.404Z"
   },
   {
    "duration": 54,
    "start_time": "2023-05-24T11:52:39.411Z"
   },
   {
    "duration": 10,
    "start_time": "2023-05-24T11:52:39.467Z"
   },
   {
    "duration": 14,
    "start_time": "2023-05-24T11:52:39.478Z"
   },
   {
    "duration": 14,
    "start_time": "2023-05-24T11:52:39.493Z"
   },
   {
    "duration": 81,
    "start_time": "2023-05-24T11:52:39.509Z"
   },
   {
    "duration": 16,
    "start_time": "2023-05-24T11:52:39.592Z"
   },
   {
    "duration": 5,
    "start_time": "2023-05-24T11:52:39.610Z"
   },
   {
    "duration": 31,
    "start_time": "2023-05-24T11:52:39.616Z"
   },
   {
    "duration": 6,
    "start_time": "2023-05-24T11:52:39.649Z"
   },
   {
    "duration": 6,
    "start_time": "2023-05-24T11:52:39.656Z"
   },
   {
    "duration": 14,
    "start_time": "2023-05-24T11:52:39.663Z"
   },
   {
    "duration": 3,
    "start_time": "2023-05-24T11:52:39.679Z"
   },
   {
    "duration": 14,
    "start_time": "2023-05-24T11:52:39.683Z"
   },
   {
    "duration": 18,
    "start_time": "2023-05-24T11:52:39.698Z"
   },
   {
    "duration": 36,
    "start_time": "2023-05-24T11:52:39.717Z"
   },
   {
    "duration": 13,
    "start_time": "2023-05-24T11:52:39.754Z"
   },
   {
    "duration": 10,
    "start_time": "2023-05-24T11:52:39.768Z"
   },
   {
    "duration": 7,
    "start_time": "2023-05-24T11:52:39.781Z"
   },
   {
    "duration": 8,
    "start_time": "2023-05-24T11:52:39.790Z"
   },
   {
    "duration": 19,
    "start_time": "2023-05-24T11:55:43.170Z"
   },
   {
    "duration": 22,
    "start_time": "2023-05-24T12:17:57.012Z"
   },
   {
    "duration": 24,
    "start_time": "2023-05-24T12:41:33.688Z"
   },
   {
    "duration": 496,
    "start_time": "2023-05-24T15:09:23.239Z"
   },
   {
    "duration": 22,
    "start_time": "2023-05-24T15:09:23.737Z"
   },
   {
    "duration": 15,
    "start_time": "2023-05-24T15:09:23.761Z"
   },
   {
    "duration": 10,
    "start_time": "2023-05-24T15:09:23.778Z"
   },
   {
    "duration": 35,
    "start_time": "2023-05-24T15:09:23.791Z"
   },
   {
    "duration": 4,
    "start_time": "2023-05-24T15:09:23.827Z"
   },
   {
    "duration": 35,
    "start_time": "2023-05-24T15:09:23.832Z"
   },
   {
    "duration": 5,
    "start_time": "2023-05-24T15:09:23.869Z"
   },
   {
    "duration": 10,
    "start_time": "2023-05-24T15:09:23.876Z"
   },
   {
    "duration": 6,
    "start_time": "2023-05-24T15:09:23.888Z"
   },
   {
    "duration": 78,
    "start_time": "2023-05-24T15:09:23.895Z"
   },
   {
    "duration": 14,
    "start_time": "2023-05-24T15:09:23.975Z"
   },
   {
    "duration": 4,
    "start_time": "2023-05-24T15:09:23.991Z"
   },
   {
    "duration": 16,
    "start_time": "2023-05-24T15:09:23.999Z"
   },
   {
    "duration": 48,
    "start_time": "2023-05-24T15:09:24.017Z"
   },
   {
    "duration": 23,
    "start_time": "2023-05-24T15:09:24.067Z"
   },
   {
    "duration": 4,
    "start_time": "2023-05-24T15:09:24.092Z"
   },
   {
    "duration": 12,
    "start_time": "2023-05-24T15:09:24.099Z"
   },
   {
    "duration": 8,
    "start_time": "2023-05-24T15:09:24.114Z"
   },
   {
    "duration": 34,
    "start_time": "2023-05-24T15:09:24.124Z"
   },
   {
    "duration": 11,
    "start_time": "2023-05-24T15:09:24.160Z"
   },
   {
    "duration": 19,
    "start_time": "2023-05-24T15:09:24.173Z"
   },
   {
    "duration": 10,
    "start_time": "2023-05-24T15:09:24.194Z"
   },
   {
    "duration": 15,
    "start_time": "2023-05-24T15:09:24.206Z"
   },
   {
    "duration": 42,
    "start_time": "2023-05-24T15:09:24.222Z"
   },
   {
    "duration": 6,
    "start_time": "2023-05-24T15:09:24.266Z"
   },
   {
    "duration": 27,
    "start_time": "2023-05-24T15:09:24.273Z"
   },
   {
    "duration": 21,
    "start_time": "2023-05-24T15:09:24.302Z"
   },
   {
    "duration": 43,
    "start_time": "2023-05-24T15:09:24.324Z"
   },
   {
    "duration": 533,
    "start_time": "2023-05-24T19:05:12.644Z"
   },
   {
    "duration": 22,
    "start_time": "2023-05-24T19:05:13.179Z"
   },
   {
    "duration": 14,
    "start_time": "2023-05-24T19:05:13.203Z"
   },
   {
    "duration": 9,
    "start_time": "2023-05-24T19:05:13.219Z"
   },
   {
    "duration": 42,
    "start_time": "2023-05-24T19:05:13.230Z"
   },
   {
    "duration": 4,
    "start_time": "2023-05-24T19:05:13.273Z"
   },
   {
    "duration": 9,
    "start_time": "2023-05-24T19:05:13.278Z"
   },
   {
    "duration": 4,
    "start_time": "2023-05-24T19:05:13.288Z"
   },
   {
    "duration": 7,
    "start_time": "2023-05-24T19:05:13.294Z"
   },
   {
    "duration": 4,
    "start_time": "2023-05-24T19:05:13.304Z"
   },
   {
    "duration": 64,
    "start_time": "2023-05-24T19:05:13.310Z"
   },
   {
    "duration": 10,
    "start_time": "2023-05-24T19:05:13.376Z"
   },
   {
    "duration": 5,
    "start_time": "2023-05-24T19:05:13.388Z"
   },
   {
    "duration": 11,
    "start_time": "2023-05-24T19:05:13.395Z"
   },
   {
    "duration": 49,
    "start_time": "2023-05-24T19:05:13.408Z"
   },
   {
    "duration": 17,
    "start_time": "2023-05-24T19:05:13.458Z"
   },
   {
    "duration": 3,
    "start_time": "2023-05-24T19:05:13.476Z"
   },
   {
    "duration": 12,
    "start_time": "2023-05-24T19:05:13.481Z"
   },
   {
    "duration": 8,
    "start_time": "2023-05-24T19:05:13.495Z"
   },
   {
    "duration": 3,
    "start_time": "2023-05-24T19:05:13.505Z"
   },
   {
    "duration": 42,
    "start_time": "2023-05-24T19:05:13.509Z"
   },
   {
    "duration": 2,
    "start_time": "2023-05-24T19:05:13.553Z"
   },
   {
    "duration": 9,
    "start_time": "2023-05-24T19:05:13.557Z"
   },
   {
    "duration": 12,
    "start_time": "2023-05-24T19:05:13.568Z"
   },
   {
    "duration": 26,
    "start_time": "2023-05-24T19:05:13.582Z"
   },
   {
    "duration": 5,
    "start_time": "2023-05-24T19:05:13.609Z"
   },
   {
    "duration": 21,
    "start_time": "2023-05-24T19:05:13.651Z"
   },
   {
    "duration": 19,
    "start_time": "2023-05-24T19:05:13.675Z"
   },
   {
    "duration": 24,
    "start_time": "2023-05-24T19:05:13.695Z"
   },
   {
    "duration": 274,
    "start_time": "2023-05-24T19:11:38.920Z"
   },
   {
    "duration": 740,
    "start_time": "2023-05-25T07:54:35.227Z"
   },
   {
    "duration": 23,
    "start_time": "2023-05-25T07:54:35.969Z"
   },
   {
    "duration": 15,
    "start_time": "2023-05-25T07:54:35.993Z"
   },
   {
    "duration": 16,
    "start_time": "2023-05-25T07:54:36.010Z"
   },
   {
    "duration": 45,
    "start_time": "2023-05-25T07:54:36.027Z"
   },
   {
    "duration": 3,
    "start_time": "2023-05-25T07:54:36.074Z"
   },
   {
    "duration": 16,
    "start_time": "2023-05-25T07:54:36.079Z"
   },
   {
    "duration": 8,
    "start_time": "2023-05-25T07:54:36.097Z"
   },
   {
    "duration": 9,
    "start_time": "2023-05-25T07:54:36.107Z"
   },
   {
    "duration": 24,
    "start_time": "2023-05-25T07:54:36.118Z"
   },
   {
    "duration": 45,
    "start_time": "2023-05-25T07:54:36.145Z"
   },
   {
    "duration": 10,
    "start_time": "2023-05-25T07:54:36.192Z"
   },
   {
    "duration": 19,
    "start_time": "2023-05-25T07:54:36.203Z"
   },
   {
    "duration": 17,
    "start_time": "2023-05-25T07:54:36.223Z"
   },
   {
    "duration": 44,
    "start_time": "2023-05-25T07:54:36.242Z"
   },
   {
    "duration": 18,
    "start_time": "2023-05-25T07:54:36.287Z"
   },
   {
    "duration": 4,
    "start_time": "2023-05-25T07:54:36.308Z"
   },
   {
    "duration": 23,
    "start_time": "2023-05-25T07:54:36.314Z"
   },
   {
    "duration": 17,
    "start_time": "2023-05-25T07:54:36.339Z"
   },
   {
    "duration": 13,
    "start_time": "2023-05-25T07:54:36.357Z"
   },
   {
    "duration": 15,
    "start_time": "2023-05-25T07:54:36.372Z"
   },
   {
    "duration": 6,
    "start_time": "2023-05-25T07:54:36.389Z"
   },
   {
    "duration": 15,
    "start_time": "2023-05-25T07:54:36.397Z"
   },
   {
    "duration": 17,
    "start_time": "2023-05-25T07:54:36.414Z"
   },
   {
    "duration": 33,
    "start_time": "2023-05-25T07:54:36.433Z"
   },
   {
    "duration": 6,
    "start_time": "2023-05-25T07:54:36.467Z"
   },
   {
    "duration": 37,
    "start_time": "2023-05-25T07:54:36.474Z"
   },
   {
    "duration": 28,
    "start_time": "2023-05-25T07:54:36.514Z"
   },
   {
    "duration": 22,
    "start_time": "2023-05-25T07:54:36.545Z"
   },
   {
    "duration": 512,
    "start_time": "2023-05-25T20:31:25.159Z"
   },
   {
    "duration": 26,
    "start_time": "2023-05-25T20:31:25.673Z"
   },
   {
    "duration": 20,
    "start_time": "2023-05-25T20:31:25.700Z"
   },
   {
    "duration": 173,
    "start_time": "2023-05-25T20:31:25.727Z"
   },
   {
    "duration": 60,
    "start_time": "2023-05-25T20:31:25.902Z"
   },
   {
    "duration": 18,
    "start_time": "2023-05-25T20:31:25.964Z"
   },
   {
    "duration": 29,
    "start_time": "2023-05-25T20:31:25.984Z"
   },
   {
    "duration": 51,
    "start_time": "2023-05-25T20:31:26.014Z"
   },
   {
    "duration": 30,
    "start_time": "2023-05-25T20:31:26.067Z"
   },
   {
    "duration": 12,
    "start_time": "2023-05-25T20:31:26.101Z"
   },
   {
    "duration": 101,
    "start_time": "2023-05-25T20:31:26.115Z"
   },
   {
    "duration": 15,
    "start_time": "2023-05-25T20:31:26.217Z"
   },
   {
    "duration": 27,
    "start_time": "2023-05-25T20:31:26.234Z"
   },
   {
    "duration": 26,
    "start_time": "2023-05-25T20:31:26.263Z"
   },
   {
    "duration": 40,
    "start_time": "2023-05-25T20:31:26.291Z"
   },
   {
    "duration": 34,
    "start_time": "2023-05-25T20:31:26.334Z"
   },
   {
    "duration": 11,
    "start_time": "2023-05-25T20:31:26.369Z"
   },
   {
    "duration": 37,
    "start_time": "2023-05-25T20:31:26.382Z"
   },
   {
    "duration": 43,
    "start_time": "2023-05-25T20:31:26.421Z"
   },
   {
    "duration": 24,
    "start_time": "2023-05-25T20:31:26.467Z"
   },
   {
    "duration": 76,
    "start_time": "2023-05-25T20:31:26.493Z"
   },
   {
    "duration": 33,
    "start_time": "2023-05-25T20:31:26.571Z"
   },
   {
    "duration": 77,
    "start_time": "2023-05-25T20:31:26.606Z"
   },
   {
    "duration": 49,
    "start_time": "2023-05-25T20:31:26.684Z"
   },
   {
    "duration": 47,
    "start_time": "2023-05-25T20:31:26.735Z"
   },
   {
    "duration": 15,
    "start_time": "2023-05-25T20:31:26.784Z"
   },
   {
    "duration": 85,
    "start_time": "2023-05-25T20:31:26.801Z"
   },
   {
    "duration": 25,
    "start_time": "2023-05-25T20:31:26.890Z"
   },
   {
    "duration": 29,
    "start_time": "2023-05-25T20:31:26.916Z"
   }
  ],
  "colab": {
   "provenance": []
  },
  "kernelspec": {
   "display_name": "Python 3 (ipykernel)",
   "language": "python",
   "name": "python3"
  },
  "language_info": {
   "codemirror_mode": {
    "name": "ipython",
    "version": 3
   },
   "file_extension": ".py",
   "mimetype": "text/x-python",
   "name": "python",
   "nbconvert_exporter": "python",
   "pygments_lexer": "ipython3",
   "version": "3.9.5"
  },
  "toc": {
   "base_numbering": 1,
   "nav_menu": {},
   "number_sections": true,
   "sideBar": true,
   "skip_h1_title": true,
   "title_cell": "Table of Contents",
   "title_sidebar": "Contents",
   "toc_cell": false,
   "toc_position": {
    "height": "calc(100% - 180px)",
    "left": "10px",
    "top": "150px",
    "width": "338.594px"
   },
   "toc_section_display": true,
   "toc_window_display": true
  }
 },
 "nbformat": 4,
 "nbformat_minor": 5
}
